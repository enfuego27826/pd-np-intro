{
 "cells": [
  {
   "cell_type": "code",
   "execution_count": 1,
   "metadata": {
    "id": "IZLwNgdS-ndV"
   },
   "outputs": [],
   "source": [
    "import numpy as np\n",
    "import matplotlib.pyplot as plt\n",
    "%matplotlib inline\n",
    "%config InlineBackend.figure_format = 'retina'"
   ]
  },
  {
   "cell_type": "markdown",
   "metadata": {
    "id": "AnUxKd3FsdSJ"
   },
   "source": [
    "\n",
    "# **Section 1: Creating Arrays**\n",
    "\n",
    "#### 1. Create a 1D array with 20 random integers between 1 and 100.\n",
    "**Hint:** Use the `np.random.randint()` function, specifying the range and size.\n",
    "#### 2. Create a 5x5 matrix where all the border elements are 1, and the inside elements are 0.\n",
    "#### 3. Create a diagonal matrix with values `[1, 2, 3, 4]` on the diagonal.\n",
    "#### 4. Create an array of shape (3, 3) where each row contains numbers from 1 to 3.\n",
    "**Hint:** Use `np.tile()` to repeat arrays along rows or columns.\n",
    "#### 5. Create a 1D array with alternating 0s and 1s of length 10.\n",
    "#### 6. Create a 3x3 matrix with random integers between 10 and 20, and set the datatype to `int32`."
   ]
  },
  {
   "cell_type": "code",
   "execution_count": 2,
   "metadata": {
    "colab": {
     "base_uri": "https://localhost:8080/"
    },
    "id": "rKEU5DoYeGC6",
    "outputId": "802589c7-d8fa-4f0f-a9fa-d65bf357c7c2"
   },
   "outputs": [
    {
     "data": {
      "text/plain": [
       "array([[13, 78, 48],\n",
       "       [92, 71, 63],\n",
       "       [28,  9, 45]])"
      ]
     },
     "execution_count": 2,
     "metadata": {},
     "output_type": "execute_result"
    }
   ],
   "source": [
    "#Q1 -\n",
    "\n",
    "arr = np.random.randint(low=1,high=100,size=[3,3])\n",
    "\n",
    "arr"
   ]
  },
  {
   "cell_type": "code",
   "execution_count": 19,
   "metadata": {
    "colab": {
     "base_uri": "https://localhost:8080/"
    },
    "id": "0ZajeJWIeauX",
    "outputId": "2472aaca-48d0-42cb-927d-978747a3fa3c"
   },
   "outputs": [
    {
     "data": {
      "text/plain": [
       "array([[1., 1., 1., 1., 1.],\n",
       "       [1., 0., 0., 0., 1.],\n",
       "       [1., 0., 0., 0., 1.],\n",
       "       [1., 0., 0., 0., 1.],\n",
       "       [1., 1., 1., 1., 1.]])"
      ]
     },
     "execution_count": 19,
     "metadata": {},
     "output_type": "execute_result"
    }
   ],
   "source": [
    "#Q2 -\n",
    "\n",
    "arr = np.ones((5,5))\n",
    "arr[1:4,1:4] = 0\n",
    "\n",
    "arr"
   ]
  },
  {
   "cell_type": "code",
   "execution_count": 4,
   "metadata": {},
   "outputs": [
    {
     "data": {
      "text/plain": [
       "array([[1, 0, 0, 0],\n",
       "       [0, 2, 0, 0],\n",
       "       [0, 0, 3, 0],\n",
       "       [0, 0, 0, 4]])"
      ]
     },
     "execution_count": 4,
     "metadata": {},
     "output_type": "execute_result"
    }
   ],
   "source": [
    "arr = [1,2,3,4]\n",
    "\n",
    "arr1 = np.diag(arr)\n",
    "arr1"
   ]
  },
  {
   "cell_type": "markdown",
   "metadata": {
    "id": "DkYcM2eukdxR"
   },
   "source": [
    "# **Section 2: Array Attributes**\n",
    "\n",
    "####1. Create a NumPy array of shape (4, 5) filled with random integers between 1 and 10. Now use an appropriate attribute of an array and find the following:\n",
    "\n",
    "  1. shape of the array\n",
    "  2. size of the array\n",
    "  3. number of dimensions\n",
    "  4. data type\n",
    "\n",
    "####2. Write a Python function that takes an array as input and returns the number of dimensions (ndim) of the array.\n",
    "Test the function with the following arrays:\n",
    "\n",
    "  1. A 1D array with 5 elements.\n",
    "  2. A 2D array of size (3x4).\n",
    "  3. A 3D array of size (2x3x4).\n",
    "\n",
    "\n",
    "####3. Create a NumPy array with the elements between 1 to 100 and use the dtype attribute to find out the data type of the elements. Modify the program to create arrays with elements of type float and string, and observe the changes in dtype.\n",
    "\n",
    "####4. Write a Python function that:\n",
    "  1. Creates a 6×3 array of integers using NumPy.\n",
    "  2. Prints the shape of the array using the shape attribute.\n",
    "  3. Reshapes the array to 3×6 and prints the new shape.\n",
    "\n",
    "\n",
    "\n",
    "####5. Write a program to:\n",
    "  1. Create an array of any size with all elements being 0 and use the appropriate attribute to print the size (in bytes) of each element in the array.\n",
    "  2. Create an array of any size with elements between 1 to 10 and print the size.\n",
    "  3. Create another array with floating-point numbers of any size and observe how the size changes.\n",
    "\n"
   ]
  },
  {
   "cell_type": "code",
   "execution_count": 23,
   "metadata": {
    "colab": {
     "base_uri": "https://localhost:8080/"
    },
    "id": "vFTf7LrOfYxL",
    "outputId": "3541ba75-4a8e-4dc0-8493-ed9b1f7e8c2d"
   },
   "outputs": [
    {
     "name": "stdout",
     "output_type": "stream",
     "text": [
      "Shape of the Array: (4, 5)\n",
      "Size of the Array: 20\n",
      "Number of dimensions of the Array: 2\n",
      "Data type of the Array: int64\n"
     ]
    }
   ],
   "source": [
    "#Q1\n",
    "arr = np.random.randint(low=1,high=10,size=(4,5))\n",
    "\n",
    "print(f\"Shape of the Array: {arr.shape}\")\n",
    "print(f\"Size of the Array: {arr.size}\")\n",
    "print(f\"Number of dimensions of the Array: {arr.ndim}\")\n",
    "print(f\"Data type of the Array: {arr.dtype}\")"
   ]
  },
  {
   "cell_type": "code",
   "execution_count": 33,
   "metadata": {
    "colab": {
     "base_uri": "https://localhost:8080/"
    },
    "id": "BM2iuLubf81s",
    "outputId": "5039b89d-d24f-484b-f345-cf8ac89af30d"
   },
   "outputs": [
    {
     "name": "stdout",
     "output_type": "stream",
     "text": [
      "(6, 3)\n",
      "(3, 6)\n"
     ]
    }
   ],
   "source": [
    "#Q4\n",
    "arr = np.random.randint(low=1,high=10,size=(6,3))\n",
    "print(arr.shape)\n",
    "\n",
    "arr = arr.reshape(3,6)\n",
    "print(arr.shape)"
   ]
  },
  {
   "cell_type": "markdown",
   "metadata": {
    "id": "ItnxYBtVzYiL"
   },
   "source": [
    "# **Section 3: Sorting and Partioning**\n",
    "\n",
    "####1. Given an array arr, sort the array in ascending order without modifying the original array. Print both the original and sorted arrays.(use np.sort())\n",
    "\n",
    "####2. You have arr = np.array([50, 30, 40, 20]) and names = np.array([\"A\", \"B\", \"C\", \"D\"]).\n",
    "Sort the arr values in ascending order and rearrange the names array accordingly.(use np.argsort() to get sorted indices and reorder names)\n",
    "\n",
    "####3. Write code to find the k smallest elements from the array arr. Print these elements in ascending order.(use np.partition())\n",
    "\n",
    "####4. Partition the array arr such that all elements smaller than a particular number(user input) appear before those greater than or equal to that number. Print the partitioned array.(use np.partition() to find the pivot value's index)\n",
    "\n",
    "####5. Sort each row of a 2D array arr in ascending order.(use np.sort() with axis parameter)\n",
    "\n",
    "####6. Print k largest elements of an array arr in descending order.(use np.partition() to find top k elements)\n",
    "\n",
    "####7. Given an array arr(containing possible negative values), sort the array in ascending order based on the absolute values of the elements. Print the sorted array.(use np.argsort() with a custom key for absolute values)\n",
    "\n",
    "####8. Given an array arr, sort only the elements greater than k in ascending order, keeping the other elements in their original positions.(create a mask to find elements greater than k, use np.sort() to sort them then reassign the sorted values back to their original indices in the array)"
   ]
  },
  {
   "cell_type": "code",
   "execution_count": 35,
   "metadata": {
    "colab": {
     "base_uri": "https://localhost:8080/"
    },
    "id": "A07CSXRugeV-",
    "outputId": "75ad4cb9-5686-46ca-c2ac-147342e8cc5d"
   },
   "outputs": [
    {
     "data": {
      "text/plain": [
       "(array([6, 8, 8, 9, 2, 2]), array([2, 2, 6, 8, 8, 9]))"
      ]
     },
     "execution_count": 35,
     "metadata": {},
     "output_type": "execute_result"
    }
   ],
   "source": [
    "#Q1\n",
    "arr = np.random.randint(1,10,(6,))\n",
    "\n",
    "sorted_arr = np.sort(arr)\n",
    "arr, sorted_arr"
   ]
  },
  {
   "cell_type": "code",
   "execution_count": 37,
   "metadata": {
    "colab": {
     "base_uri": "https://localhost:8080/"
    },
    "id": "pnkwADcMgtEM",
    "outputId": "6dbe8631-1e5e-45fb-e549-6ce939d65b90"
   },
   "outputs": [
    {
     "data": {
      "text/plain": [
       "(array([20, 30, 40, 50]), array(['D', 'B', 'C', 'A'], dtype='<U1'))"
      ]
     },
     "execution_count": 37,
     "metadata": {},
     "output_type": "execute_result"
    }
   ],
   "source": [
    "#Q2\n",
    "arr = np.array([50,30,40,20])\n",
    "names = np.array([\"A\",\"B\",\"C\",\"D\"])\n",
    "\n",
    "\n",
    "idx = np.argsort(arr)\n",
    "sorted_arr = arr[idx]\n",
    "sorted_names = names[idx]\n",
    "\n",
    "sorted_arr, sorted_names"
   ]
  },
  {
   "cell_type": "markdown",
   "metadata": {
    "id": "gPghNT4V8CFw"
   },
   "source": [
    "# **Section 4: Indexing and slicing**"
   ]
  },
  {
   "cell_type": "markdown",
   "metadata": {
    "id": "O9CJs-Un8X3_"
   },
   "source": [
    "#### 1. 2D Array Indexing\n",
    "Consider the following 2D array:\n",
    "`arr_2d = np.array([[5, 10, 15], [20, 25, 30], [35, 40, 45]])`\n",
    "- Access the element at row index 1 and column index 2.\n",
    "- Extract the first row.\n",
    "- Extract the last column."
   ]
  },
  {
   "cell_type": "code",
   "execution_count": 44,
   "metadata": {
    "colab": {
     "base_uri": "https://localhost:8080/"
    },
    "id": "v7i0fEcBhgJr",
    "outputId": "0f56765a-e52c-422d-fb83-387b7cacf8cd"
   },
   "outputs": [
    {
     "data": {
      "text/plain": [
       "(np.int64(30), array([ 5, 10, 15]), array([15, 30, 45]))"
      ]
     },
     "execution_count": 44,
     "metadata": {},
     "output_type": "execute_result"
    }
   ],
   "source": [
    "#Q1\n",
    "\n",
    "arr_2d = np.array([[5, 10, 15], [20, 25, 30], [35, 40, 45]])\n",
    "\n",
    "\n",
    "arr_2d[1,2],arr_2d[0,:], arr_2d[:,2]"
   ]
  },
  {
   "cell_type": "markdown",
   "metadata": {
    "id": "aXGnlXAo8ai8"
   },
   "source": [
    "#### 2. Boolean Indexing\n",
    "Given an array `arr = np.array([2, 5, 8, 11, 14, 17, 20])`, use boolean indexing to:\n",
    "- Extract all values greater than 10.\n",
    "- Replace all values greater than 15 with -1."
   ]
  },
  {
   "cell_type": "code",
   "execution_count": 47,
   "metadata": {
    "colab": {
     "base_uri": "https://localhost:8080/"
    },
    "id": "AkUw2Aqzh174",
    "outputId": "62727e76-55ac-44e7-92fd-1ed471be492e"
   },
   "outputs": [
    {
     "data": {
      "text/plain": [
       "array([11, 14, -1, -1])"
      ]
     },
     "execution_count": 47,
     "metadata": {},
     "output_type": "execute_result"
    }
   ],
   "source": [
    "arr = np.array([2, 5, 8, 11, 14, 17, 20])\n",
    "\n",
    "mask = arr > 10\n",
    "\n",
    "new_arr = arr[mask]\n",
    "\n",
    "mask2 = new_arr > 15\n",
    "new_arr[mask2] = -1\n",
    "\n",
    "new_arr"
   ]
  },
  {
   "cell_type": "markdown",
   "metadata": {
    "id": "cSMQOL_78dGJ"
   },
   "source": [
    "#### 3. Fancy Indexing\n",
    "Using the 2D array `arr_2d = np.array([[5, 10, 15], [20, 25, 30], [35, 40, 45]])`, write code to:\n",
    "\n",
    "- Select the elements at positions (0,2), (1,1), and (2,0).\n",
    "- Use fancy indexing to create a submatrix with rows 0 and 2, and columns 1 and 2.\n",
    "\n",
    "- **Hint:**\n",
    " - For 1st part, use arrays of row and column indices\n",
    " - For 2nd part, you can create a submatrix using fancy indexing by using np.newaxis to match the dimensions\n"
   ]
  },
  {
   "cell_type": "markdown",
   "metadata": {
    "id": "neMikU6N8fdJ"
   },
   "source": [
    "#### 4. Slicing 1D array\n",
    "Given the array `arr = np.array([1, 3, 5, 7, 9, 11, 13, 15])`, write code to:\n",
    "\n",
    "- Extract the first 4 elements.\n",
    "- Extract every second element from the entire array.\n",
    "- Extract elements from index 2 to the end, stepping by 2."
   ]
  },
  {
   "cell_type": "markdown",
   "metadata": {
    "id": "QnTy4Zj98h4I"
   },
   "source": [
    "#### 5. Slicing a 2D Array\n",
    "Given the following 2D array:\n",
    "`arr_2d = np.array([[10, 20, 30, 40], [50, 60, 70, 80], [90, 100, 110, 120]])`\n",
    "- Slice and print the last two columns of 1st row.\n",
    "- Slice and print the last row, reversed."
   ]
  },
  {
   "cell_type": "markdown",
   "metadata": {
    "id": "DWgodK9V8kVv"
   },
   "source": [
    "#### 6. Handling Out-of-Range Indices in Slicing vs. Indexing\n",
    "Given the array:\n",
    "`arr = np.array([10, 20, 30, 40, 50])`\n",
    "\n",
    "\n",
    "- What will be the output of the following slicing operations? Explain why they work, even though some indices are out of range.\n",
    " - print(arr[2:10])  \n",
    " - print(arr[-10:3])    \n",
    "\n",
    "- Compare the behavior of slicing to accessing a single element with an out-of-range index (e.g., arr[10]). Why does slicing not raise an error in these cases, but indexing does?"
   ]
  },
  {
   "cell_type": "markdown",
   "metadata": {
    "id": "xDOOiJe7r_Vx"
   },
   "source": [
    "#### 7.  Work with an Audio File\n",
    "\n",
    "Download the audio file from the following link: Simple Logo - Pixabay. Load the audio file using pydub and complete the following tasks:\n",
    "\n",
    "- Extract the first second of the audio and plot its waveform.\n",
    "   - Hint: Use the frame rate to calculate how many samples are in 1 second, and use slicing to extract this part.\n",
    "\n",
    "-   Extract the last second of the audio and plot its waveform.\n",
    "  \n",
    "\n",
    "-  Combine the samples from the first second and the last second into a new array and plot the combined waveform.\n",
    " - Hint: Use NumPy’s np.concatenate() function to merge the two slices."
   ]
  },
  {
   "cell_type": "markdown",
   "metadata": {
    "id": "bRFENqbOGX1X"
   },
   "source": [
    "# **Section 5: Reshaping in NumPy**\n"
   ]
  },
  {
   "cell_type": "markdown",
   "metadata": {
    "id": "Gv2cCyxAdS3Q"
   },
   "source": [
    "####1. Create a 2D array of shape (3, 5). Flatten it into a 1D array and then reshape it back into a (5, 3) array.\n",
    "\n",
    "####2. Create a 1D array\n",
    "```\n",
    "arr = np.array([1, 2, 3, 4, 5])\n",
    "```\n",
    "####Reshape arr into (5,1), then convert to (5,) and then convert it into (1,5).\n",
    "\n",
    "\n",
    "####3. Create a 1D NumPy array with values ranging from 1 to 100. Reshape it into a (10, 10) matrix. Apply '.ravel()' and '.flatten()' on the matrix and modify the original matrix. Compare the outputs of both methods and explain the difference in memory sharing.\n",
    "\n",
    "\n",
    "####4. Generate a 5x5 NumPy matrix representing pixel intensities from an image. Use slicing to extract the central 3x3 section of the matrix and flatten it. How does reshaping impact the spatial relationships of the pixels?\n",
    "\n",
    "\n",
    "####5. Create a 3-channel RGB image as a NumPy array of shape (3, 4, 4) with random integer values between 0 and 255. Flatten the image using '.reshape()' and reshape it back to its original shape. Explain the order of pixel data stored and how reshaping affects the channel structure.\n",
    "\n"
   ]
  },
  {
   "cell_type": "code",
   "execution_count": 52,
   "metadata": {
    "colab": {
     "base_uri": "https://localhost:8080/"
    },
    "id": "Tz4C2sUJiLPp",
    "outputId": "3b838c99-59bc-4133-c6ca-1b1b053bfd4f"
   },
   "outputs": [
    {
     "data": {
      "text/plain": [
       "array([[9, 3, 4],\n",
       "       [9, 4, 1],\n",
       "       [3, 5, 6],\n",
       "       [4, 7, 3],\n",
       "       [7, 3, 9]])"
      ]
     },
     "execution_count": 52,
     "metadata": {},
     "output_type": "execute_result"
    }
   ],
   "source": [
    "arr = np.random.randint(1,10,(3,5))\n",
    "arr\n",
    "\n",
    "new_arr = arr.flatten()\n",
    "\n",
    "new_arr = new_arr.reshape(5,3)\n",
    "new_arr"
   ]
  },
  {
   "cell_type": "markdown",
   "metadata": {
    "id": "6N9gUypIpV_H"
   },
   "source": [
    "# **Section 6: Universal Functions**\n",
    "\n",
    "Q1) Given an array x = [1, 4, 9, 16, 25], compute the square root of each element in the array and print the result.\n",
    "\n",
    "Q2) Create an array angles =[0, $\\frac{\\pi}{2}$, $\\pi$, $\\frac{3\\pi}{2}$]\n",
    ", calculate the sine of each angle and print the result.\n",
    "\n",
    "\n",
    "\n",
    "Q3) Given two arrays a =[True, False, True] and b = [False, False, True], perform an element-wise logical AND operation and print the result.\n",
    "\n",
    "Q4) Create two arrays x = [1, 2, 3, 4] and y = [2, 2, 3, 5], perform an element-wise comparison (x < y) and print the result.\n",
    "\n",
    "Q5) Create an array x =[-2, -1, 0, 1, 2, 3, 4], compute the following element-wise operation:\n",
    "\n",
    "* If an element is negative, square it.\n",
    "* If an element is non-negative, compute its exponential.\n",
    "Print the resulting array."
   ]
  },
  {
   "cell_type": "code",
   "execution_count": 57,
   "metadata": {
    "id": "5r92utjYicr-"
   },
   "outputs": [],
   "source": [
    "x = [1,4,9,16,25]\n",
    "x = np.array(x)\n",
    "\n",
    "x = np.sqrt(x)"
   ]
  },
  {
   "cell_type": "code",
   "execution_count": 58,
   "metadata": {
    "colab": {
     "base_uri": "https://localhost:8080/"
    },
    "id": "Lqw1o5RQioTY",
    "outputId": "a09236fe-2f43-4435-8bea-ce2d58146bc0"
   },
   "outputs": [
    {
     "data": {
      "text/plain": [
       "array([ 0.0000000e+00,  1.0000000e+00,  1.2246468e-16, -1.0000000e+00])"
      ]
     },
     "execution_count": 58,
     "metadata": {},
     "output_type": "execute_result"
    }
   ],
   "source": [
    "x = np.array([0,np.pi/2,np.pi,3*np.pi/2])\n",
    "\n",
    "y = np.sin(x)\n",
    "y"
   ]
  },
  {
   "cell_type": "markdown",
   "metadata": {
    "id": "gpcuUfrjZiBa"
   },
   "source": [
    "# **Section 7: Aggregations**\n",
    "\n",
    "####1. Generate a random array of size 10.\n",
    " calculate the following:\n",
    "- Print the array\n",
    "- The sum of all elements.\n",
    "- The mean of the array.\n",
    "- The standard deviation.\n",
    "- Find 5$*$Minimum -3$*$Maximum\n",
    "\n",
    "####2. Generate a 4x5 matrix with random integers between 1 and 50.\n",
    "- Print the matrix.\n",
    "- Compute the mean of all elements in the matrix.\n",
    "- Compute the sum of each row in the matrix.\n",
    "\n",
    "####3. Generate a random 3x3 matrix with random integers between 1 to 10\n",
    "- Find the minimum value in each column and store it in a separate list min.\n",
    "- Find the maximum value in each row and store it in a separate list max.\n",
    "- Find the value of minimum of list max - maximum of list min.\n",
    "\n",
    "####4. Given the array : data = np.array([15, 25, 35, 45, 55, 65]):\n",
    "- Find the minimum value.\n",
    "- Subtract this minimum value from all elements of the array and then calculate the mean of the resulting array.\n",
    "\n",
    "####5. Given the array : arr = np.array([3, 5, 7, 9, 11]):\n",
    "- Compute the cumulative sum of the elements.\n",
    "- Compute the cumulative product of the elements.\n",
    "\n",
    "####6. Imagine you have a dataset representing the scores of 4 students in 3 subjects:\n",
    "scores = np.array([[85, 92, 78], [88, 76, 95], [91, 89, 82], [75, 85, 88]])\n",
    "- Compute the average score for each student.\n",
    "- Compute the highest score in each subject.\n",
    "- Determine the overall average score for all students across all subjects."
   ]
  },
  {
   "cell_type": "code",
   "execution_count": 60,
   "metadata": {
    "colab": {
     "base_uri": "https://localhost:8080/"
    },
    "id": "vKnyPIPri15u",
    "outputId": "a45636af-9090-4f5d-b055-a7d547ba95ba"
   },
   "outputs": [
    {
     "data": {
      "text/plain": [
       "(array([88, 56, 52, 99, 53, 27,  2, 77, 10, 43]),\n",
       " np.int64(507),\n",
       " np.float64(50.7),\n",
       " np.float64(30.166372005927396),\n",
       " np.int64(-287))"
      ]
     },
     "execution_count": 60,
     "metadata": {},
     "output_type": "execute_result"
    }
   ],
   "source": [
    "arr = np.random.randint(1,100,10)\n",
    "\n",
    "arr,np.sum(arr),np.mean(arr),np.std(arr), 5*np.min(arr)-3*np.max(arr)"
   ]
  },
  {
   "cell_type": "markdown",
   "metadata": {
    "id": "bXLxBAUL3cRt"
   },
   "source": [
    "# **Section 8: Broadcasting in NumPy**\n",
    "\n",
    "\n",
    "\n",
    "####1. Given two arrays:\n",
    "\n",
    "A = np.array([[1, 2, 3], [4, 5, 6], [7, 8, 9]]) (shape: (3, 3))\n",
    "B = np.array([10, 20, 30]) (shape: (3,))\n",
    "Perform elementwise addition of A and B using broadcasting and print the result.\n",
    "\n",
    "What is the resulting shape?\n",
    "\n",
    "\n",
    "\n",
    "\n",
    "\n",
    "####2. Write a function check_broadcasting(shape1, shape2) that:\n",
    "\n",
    "Accepts two shapes as input and checks if they are broadcast-compatible.\n",
    "Use the function to test the following shape pairs:\n",
    "(3, 4) and (4,)\n",
    "(2, 1, 5) and (3, 5)\n",
    "(2, 3) and (2,)\n",
    "\n",
    "For each case:\n",
    "\n",
    "* State whether broadcasting is possible.\n",
    "\n",
    "* If possible, state the resulting shape of the operation\n",
    "\n",
    "####3. Create a 2D array A of shape (3, 5) with random integers between 1 and 10.\n",
    "Create a 1D array B of shape (5,) with random integers between 1 and 5.\n",
    "Use broadcasting to subtract B from each row of A and print the result.\n",
    "\n",
    "####4.  Create a 3D array A with shape (2, 4, 3) filled with random integers between 0 and 10.\n",
    "\n",
    "* Create an array B of shape (4, 3) containing a constant value of 5.\n",
    "* Use broadcasting to add B to each 2D array slice of A.\n",
    "* Print the result\n",
    "\n",
    "####5. : You are given a grayscale image of shape (32, 32), where each pixel value is an integer. You want to apply a scaling factor of 0.5 to all the pixel values using broadcasting.\n",
    "\n",
    "\n",
    "* Use broadcasting to scale the image by multiplying it with the scaling factor 0.5.\n",
    "* Verify that the pixel values of the image are halved by printing the scaled image.\n",
    "\n",
    "####6. Calculate the distance between an observation point and a set of code points (codes). The goal is to find the closest code to the observation by calculating the Euclidean distance between each code and the observation.\n",
    "\n",
    "* Given two arrays :\n",
    "\n",
    "codes = np.array([\n",
    "    [1.0, 2.0, 3.0],\n",
    "    [4.0, 5.0, 6.0],\n",
    "    [7.0, 8.0, 9.0],\n",
    "    [1.0, 1.0, 1.0],\n",
    "    [2.0, 3.0, 4.0]\n",
    "])\n",
    "\n",
    "\n",
    "observation = np.array([3.0, 3.0, 3.0])\n",
    "\n",
    "\n",
    "* Use broadcasting to calculate the squared Euclidean distance between the observation and each code.\n",
    "* Find and print the index of the closest code to the observation.\n",
    "* Print the distance between the observation and the closest code.\n",
    "\n",
    "**HINT : use np.argmin() to find the index of the closest code**\n",
    "\n",
    "\n"
   ]
  },
  {
   "cell_type": "code",
   "execution_count": 63,
   "metadata": {
    "colab": {
     "base_uri": "https://localhost:8080/"
    },
    "id": "EKd3BUd7jM6m",
    "outputId": "357c2b83-3f00-4759-825a-e7558511eedd"
   },
   "outputs": [
    {
     "name": "stdout",
     "output_type": "stream",
     "text": [
      "[[11 22 33]\n",
      " [14 25 36]\n",
      " [17 28 39]]\n"
     ]
    }
   ],
   "source": [
    "A = np.array([[1, 2, 3], [4, 5, 6], [7, 8, 9]])\n",
    "B = np.array([10, 20, 30])\n",
    "\n",
    "C = A+B\n",
    "\n",
    "print(C)"
   ]
  },
  {
   "cell_type": "markdown",
   "metadata": {
    "id": "ehP-oE00BN3l"
   },
   "source": [
    "# Section 9: Concatenation\n",
    "\n",
    "1. Write a program to vertically stack arrays using `np.vstack` and print the result: (Use any three 1D arrays) <br/>\n",
    "<br/>\n",
    "2. Write a program to horizontally stack arrays using `np.hstack`. Print the result: (Use any three 1D arrays) <br/>\n",
    "<br/>\n",
    "3. Given two 2D arrays of the same row size, horizontally stack them using `np.hstack` and print the result:<br/>\n",
    "`m = np.array([[2, 4], [3, 6]])`<br/>\n",
    "`n = np.array([[4, 8], [5, 10]])`<br/>\n",
    "<br/>\n",
    "4. Using `np.vstack`, stack the following arrays vertically and print the results:<br/>\n",
    "`a = np.array([11, 12, 13])`<br/>\n",
    "`b = np.array([[14, 15, 16], [17, 18, 19]])`<br/>\n",
    "<br/>\n",
    "5. Concatenate the following 2D arrays along different axes using `np.concatenate`. Demonstrate how to concatenate them along axis 0 and axis 1.<br/>\n",
    "`x = np.array([[1, 2], [3, 4]])`<br/>\n",
    "`y = np.array([[5, 6], [7, 8]])`<br/>\n",
    "`z = np.array([[9, 10], [11, 12]])`<br/>"
   ]
  },
  {
   "cell_type": "code",
   "execution_count": 64,
   "metadata": {
    "colab": {
     "base_uri": "https://localhost:8080/"
    },
    "id": "QX52G2d2jvKW",
    "outputId": "0b96f504-83d7-45b2-d07a-485047e8a6f1"
   },
   "outputs": [
    {
     "data": {
      "text/plain": [
       "array([[1, 2, 3],\n",
       "       [3, 2, 1],\n",
       "       [4, 5, 6]])"
      ]
     },
     "execution_count": 64,
     "metadata": {},
     "output_type": "execute_result"
    }
   ],
   "source": [
    "x = np.array([1,2,3])\n",
    "y = np.array([3,2,1])\n",
    "z = np.array([4,5,6])\n",
    "\n",
    "np.vstack((x,y,z))"
   ]
  },
  {
   "cell_type": "markdown",
   "metadata": {
    "id": "NCs1VlmHiFli"
   },
   "source": [
    "# Section 10: Boolean Masking\n",
    "\n",
    "1. Use Boolean masking to filter elements from a 1D array:\n",
    "Write a program to create a 1D array and use Boolean masking to filter out all elements greater than 5.<br/>\n",
    "\n",
    "2. Apply a Boolean mask to a 2D array:\n",
    "Given the 2D array below, create a Boolean mask to select all elements greater than 10 and print the masked elements.<br/>\n",
    "`arr = np.array([[5, 12, 18], [7, 1, 3], [11, 6, 14]])`\n",
    " <br/>\n",
    "3. Create a Boolean mask using a condition on an array:\n",
    "Create a 1D array of integers from 0 to 10. Use a Boolean mask to filter out all even numbers and print the result.<br/>\n",
    "Example:\n",
    "`arr = np.arange(11)`\n",
    "<br/>\n",
    "4. Combine Boolean masks using logical operations:\n",
    "Given the array below, create and combine two Boolean masks:<br/>\n",
    "One mask selects elements greater than 5.\n",
    "The other mask selects elements divisible by 3.\n",
    "Combine the masks using logical AND and print the result.\n",
    "Example:\n",
    "`arr = np.array([1, 3, 6, 9, 12, 15])`\n",
    "<br/>\n",
    "5. Mask elements in a 2D array and replace them:\n",
    "Write a program to replace all elements less than 5 in the 2D array below with 0 using Boolean masking.\n",
    "<br/>\n",
    "6.  Count elements satisfying a condition using Boolean masks:\n",
    "Write a program to count how many elements in the array below are greater than 5.\n",
    "<br/>"
   ]
  },
  {
   "cell_type": "code",
   "execution_count": 67,
   "metadata": {
    "colab": {
     "base_uri": "https://localhost:8080/"
    },
    "id": "kqfIdkmLkUaD",
    "outputId": "ede4327c-a703-4ca4-81df-c24e5ad9bdb9"
   },
   "outputs": [
    {
     "data": {
      "text/plain": [
       "(array([4, 1, 2, 7, 6, 3, 1, 5, 7, 9, 9, 6, 5, 1, 8, 4, 4, 8, 9, 9]),\n",
       " array([7, 6, 7, 9, 9, 6, 8, 8, 9, 9]))"
      ]
     },
     "execution_count": 67,
     "metadata": {},
     "output_type": "execute_result"
    }
   ],
   "source": [
    "arr = np.random.randint(1,10,20)\n",
    "\n",
    "mask = arr > 5\n",
    "\n",
    "new_arr = arr[mask]\n",
    "\n",
    "arr, new_arr"
   ]
  },
  {
   "cell_type": "code",
   "execution_count": 70,
   "metadata": {
    "colab": {
     "base_uri": "https://localhost:8080/"
    },
    "id": "QaCq0WzbkOji",
    "outputId": "0678e7ad-bedc-4525-e143-94feca48ae27"
   },
   "outputs": [
    {
     "data": {
      "text/plain": [
       "(array([2, 2, 7, 8, 1, 9, 6, 2, 1, 1, 2, 6, 8, 2, 5, 1, 6, 4, 3, 7]),\n",
       " array([7, 8, 9, 6, 6, 8, 6, 7]),\n",
       " np.int64(8))"
      ]
     },
     "execution_count": 70,
     "metadata": {},
     "output_type": "execute_result"
    }
   ],
   "source": [
    "arr = np.random.randint(1,10,20)\n",
    "\n",
    "mask = arr > 5\n",
    "\n",
    "\n",
    "arr, arr[mask], np.sum(mask)"
   ]
  },
  {
   "cell_type": "code",
   "execution_count": null,
   "metadata": {
    "id": "4k9HJ6UdkfBN"
   },
   "outputs": [],
   "source": []
  }
 ],
 "metadata": {
  "colab": {
   "provenance": []
  },
  "kernelspec": {
   "display_name": "Python 3 (ipykernel)",
   "language": "python",
   "name": "python3"
  },
  "language_info": {
   "codemirror_mode": {
    "name": "ipython",
    "version": 3
   },
   "file_extension": ".py",
   "mimetype": "text/x-python",
   "name": "python",
   "nbconvert_exporter": "python",
   "pygments_lexer": "ipython3",
   "version": "3.13.3"
  }
 },
 "nbformat": 4,
 "nbformat_minor": 4
}
